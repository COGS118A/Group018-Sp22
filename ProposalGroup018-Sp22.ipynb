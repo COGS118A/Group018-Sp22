{
 "cells": [
  {
   "cell_type": "markdown",
   "metadata": {},
   "source": [
    "# COGS 118A- Project Proposal"
   ]
  },
  {
   "cell_type": "markdown",
   "metadata": {},
   "source": [
    "# Project Description\n",
    "\n",
    "You will design and execute a machine learning project. There are a few constraints on the nature of the allowed project. \n",
    "- The problem addressed will not be a \"toy problem\" or \"common training students problem\" like mtcars, iris, palmer penguins etc.\n",
    "- The dataset will have >1k observations and >5 variables. I'd prefer more like >10k observations and >10 variables. A general rule is that if you have >100x more observations than variables, your solution will likely generalize a lot better. The goal of training a supervised machine learning model is to learn the underlying pattern in a dataset in order to generalize well to unseen data, so choosing a large dataset is very important.\n",
    "\n",
    "- The project will include a model selection and/or feature selection component where you will be looking for the best setup to maximize the performance of your ML system.\n",
    "- You will evaluate the performance of your ML system using more than one appropriate metric\n",
    "- You will be writing a report describing and discussing these accomplishments\n",
    "\n",
    "\n",
    "Feel free to delete this description section when you hand in your proposal."
   ]
  },
  {
   "cell_type": "markdown",
   "metadata": {},
   "source": [
    "### Peer Review\n",
    "\n",
    "You will all have an opportunity to look at the Project Proposals of other groups to fuel your creativity and get more ideas for how you can improve your own projects. \n",
    "\n",
    "Both the project proposal and project checkpoint will have peer review."
   ]
  },
  {
   "cell_type": "markdown",
   "metadata": {},
   "source": [
    "# Names\n",
    "\n",
    "- Arturo Sorensen\n",
    "- Emmanuel Gutierrez\n",
    "- Hector Gallo\n",
    "- Jai Mali\n",
    "- Marco Paredes"
   ]
  },
  {
   "cell_type": "markdown",
   "metadata": {},
   "source": [
    "# Abstract \n",
    "This project has the goal of using machine learning algorithm methods, like regression models, to predict a soccer player's future contract by using their performance statistics, age, position, future potential, background, current team, agent, remaining years in current contract and marketing potential as the data. The contract variables that this project will predict are the player's transfer market value, annual salary, release clause, and potential bonuses. We will take the data and utilize regression models and data visualization in order to analyze and show the relationships between the different variables. We will be able to check for performance by comparing the predictions to actual contracts on similar players, as we would predict for the new contract to be similar to the mean of the others."
   ]
  },
  {
   "cell_type": "markdown",
   "metadata": {},
   "source": [
    "# Background"
   ]
  },
  {
   "cell_type": "markdown",
   "metadata": {},
   "source": [
    "In order to have a good understanding of how algorithms have been used to predict a football player market value, we researched how others have achieved this and what they used to make such predictions. Creating the most objective machine learning algorithm possible is very importnat since day by day, metrics and data become more and more important when it comes to the invesinting of money in different sectors, including fottball. An organization that has been using a strong algorithm to make player's market value predictions is the Football Observatory, also known as the CIES, which is a site that since 2013 has developed an econometric technique to calculate any player's transfer value using the player's objective performancence (CIES Footaball Index), which takes the following into consideration: ability to minimize goal opportunities through one-to-one duelling, ability to minimize goal opportunities through ball interception, percentage of accurate passes, percentage of successfull dribbles, ability to set teammates in favorable goal positions (assists) and percentage of shots on target.<a name=\"CIES Football Observatory\"></a>[<sup>[1]</sup>](#CIESnote)\n",
    "\n",
    "In our research for prior work, we came upon a very detailed project that aimed at predicting a player's future performance based on past performances. One of the primary goals of the algorithm designed by the creators of this project was to remove human bias from the predictions as much as possible and create objective inferences. They created a supervised machine learning algorithm following these steps: loading and cleaning data, definining a target variable, deciding which model to use, in this case a tree based model, choosing what data visualizations to use, and analyze them to ajust our model to make the most accurate predictions. Although the goal of this project was to predict future performance and the goal of our project is to predict market value, we thought it would be a great idea to use this project as a template in terms of what steps we should follow to arrive to our conclusions in the most optimal way. Also, since performance tends to be very closely associated with market value, our model would be very similar to the one being used in this project.<a name=\"Towards Data Science\"></a>[<sup>[2]</sup>](#TowardsDataSciencenote)\n",
    "\n",
    "In order to understand the principles of football player's transfer market contrats, we proceeded to investiage more about transfer principles since there are many variables that come into play when prediciting the final market value in a buying contract. This article exaplains what a transfer is, which put in simple terms, is when a player's registration details switch from one football association to another. The transfer fee is the amount of money that the buying side has to pay for since the selling party will not have access to the player's services and they need compensation for it. This compensation can be both in the form of solely monetary value or a combination of money and a player in exchange. \"Add ons\" can also play a role in the final value of the transfer fee since it's money that the buying team can pay in addition to the transfer fee, which is payed for depending on certain goals that the buying team sets for the player.<a name=\"Transfer Fee\"></a>[<sup>[3]</sup>](#TransferFeenote)"
   ]
  },
  {
   "cell_type": "markdown",
   "metadata": {},
   "source": [
    "# Problem Statement\n",
    "\n",
    "The goal is to predict the financial value of a soccer player in the transfer market. We do this by taking into account the features/information of the player and quantifying them as our metrics (for more details, see Evaluation Metrics section below). We are planning on 1. utilizing regression with a certain amount of metrics to then find the relationship and predict the financial value of a player’s contract and/or 2. using decision trees to possibly classify the players financially in groups."
   ]
  },
  {
   "cell_type": "markdown",
   "metadata": {},
   "source": [
    "# Data\n",
    "Reference #1:\n",
    "- Link: https://www.transfermarkt.us/primera-division/marktwerte/wettbewerb/ES1\n",
    "- Description: The number of observations is going to be determined when we actually start performing analysis on them since they're constantly changing, but the number of variables is five.\n",
    "- Observation: An observation in this dataset consists of the player's name, nationality, club, age, position, and transfer value.\n",
    "- Special Handling and Cleaning: This dataset is already tidy and doesn't need to be cleaned, it just needs to be imported\n",
    "\n",
    "Reference #2:\n",
    "- Link: https://football-observatory.com/IMG/sites/instatindex/\n",
    "- Description: The number of observations will also be determined when we actually start performing analysis on them since they're also constantly changing game after game, but the number of variables is five.\n",
    "- Observations: An observation in this dataset consists of player's ranking, perfomance index, name, club, and birth.\n",
    "- Special Handling and Cleaning: This dataset is already tidy and doesn't need to be cleaned, it just needs to be imported and merged with the other dataset.\n",
    "\n",
    "Reference #3:\n",
    "- Link: https://www.kaggle.com/datasets/stefanoleone992/fifa-20-complete-player-dataset\n",
    "- Description: The number of observations will also be determined when we actually start performing analysis one them since they're also constantly changing game after game, but the number of variables is ten.\n",
    "- Observations: An observation in this dataset consists of player's sofifa id, player_url, short name of the player, long name of the player, age, date of birth, height, weight, nationality, and club.\n",
    "- Special Handling and Cleaning: this dataset will need some cleaning and arranging of the url into a readable dataset."
   ]
  },
  {
   "cell_type": "markdown",
   "metadata": {},
   "source": [
    "# Proposed Solution\n",
    "\n",
    "As previously mentioned in the Problem Statement, we plan on 1. utilizing regression with a certain amount of metrics to then find the relationship and predict the financial value of a player’s contract and/or 2. using decision trees to possibly classify the players financially in groups. An example of a relationship could be determining the player’s worth depending on age, amount of goals, and nationality. We can then use data visualization and regression to show these relationships. The solution will be tested by comparing our predictions to player values and contracts of past years, as we will be predicting those years. In other words, both our training set and our testing set will be based off of past years."
   ]
  },
  {
   "cell_type": "markdown",
   "metadata": {},
   "source": [
    "# Evaluation Metrics\n",
    "\n",
    "Performance statistics (like votes, FIFA score, goals, stops, assists, etc.), league, age, position, nationality, player’s club history, contractual history, athleticism statistics (like speed), current team, agent/agency, years played with club, remaining years in current contract, marketing potential (social media following, amount of money from sponsors, money from own brands, familial relation to other players or celebrities), status (like on-loan), economic situation of country of club (like GDP), economic situation of player’s home country (like GDP), prestige of club (quantifying fans / social media following), how much money the club has, international performance (like votes)."
   ]
  },
  {
   "cell_type": "markdown",
   "metadata": {},
   "source": [
    "# Ethics & Privacy"
   ]
  },
  {
   "cell_type": "markdown",
   "metadata": {},
   "source": [
    "For our data which is based strictly on game statistics and performances for individual players and their team, there are no privacy concerns as this data is made public, usually in real-time while the events are happening. This public data can be found on multiple websites which are free to access. To ensure a minimal amount of bias when working with this data, we can cross-reference game statistics across multiple sport websites to ensure accuracy and fairness. For our data which isn’t public, like from StatsBomb, there still isn’t any privacy issues since they simply analyze data which is already publicly available. As discussed, there are no privacy concerns with the data that has been implemented. However, we do have potential biases. The analyzed data that we’ll use from StatsBomb, could introduce a source of bias since their analysis methods may not be completely transparent on which variables they use or if they choose some factors to have more weight than others. Using multiple sources and points of view will allow us to potentially avoid as much bias as possible. Another bias to note is that we are selecting players from popular and wealthier leagues to do further analyses based on our predisposed beliefs that they would show stronger correlations. However, we can address this bias by sampling from random smaller division leagues in different countries in our analysis. Another bias problem is that major economic events may have an effect on our data, causing our results to possibly be skewed.\n"
   ]
  },
  {
   "cell_type": "markdown",
   "metadata": {},
   "source": [
    "# Team Expectations "
   ]
  },
  {
   "cell_type": "markdown",
   "metadata": {},
   "source": [
    "- Be communicative with any issues or thoughts\n",
    "- Complete your assigned part on time\n",
    "- Work will be split evenly\n",
    "- Be open-minded & flexible\n",
    "- Show up to planned meetings on time\n",
    "- No procrastination\n",
    "- Ask for help if you feel like you need it\t"
   ]
  },
  {
   "cell_type": "markdown",
   "metadata": {},
   "source": [
    "# Project Timeline Proposal"
   ]
  },
  {
   "cell_type": "markdown",
   "metadata": {},
   "source": [
    "Replace this with something meaningful that is appropriate for your needs. It doesn't have to be something that fits this format.  It doesn't have to be set in stone... \"no battle plan survives contact with the enemy\". But you need a battle plan nonetheless, and you need to keep it updated so you understand what you are trying to accomplish, who's responsible for what, and what the expected due dates are for each item.\n",
    "\n",
    "| Meeting Date  | Meeting Time| Completed Before Meeting  | Discuss at Meeting |\n",
    "|---|---|---|---|\n",
    "| 4/24 |  6 PM |  Finalize & submit proposal. Continue to look for potential data sources. Consider metrics to add or remove. | Assign group members to certain parts, possible metrics & variables, further potential data sources we can use | \n",
    "| 5/1  |  6 PM |  Finalize the data we want to use & import it. Begin cleaning/wrangling the data. | Review data & EDA, evaluate how we want to analyze the data. Consider if adding or removing data is necessary | \n",
    "| 5/8  | 6 PM  | Finish up data cleaning and start coding the project  | Go over any final considerations about the project, data, variables or anything else significant before we fully work on & aim to finish the project   |\n",
    "| 5/13  | 6 PM  | Project Checkpoint | responses for results/conclusions/ discussions   |\n",
    "| 5/22  | 6 PM  | Continue to code project, begin to think about responses for results/conclusions/ discussions, etc. | Edit the project, discuss the path we’re on & if we need to make any changes - significant or not. |\n",
    "| 5/29  | 6 PM  | Finalize coding for project, make sure everything is accurate and successful. Begin and aim to complete responses for the results/conclusions/ discussions | Discuss and evaluate the final project as it is completed. Finalize any project editing and begin to complete the necessary analyses and responses for the project. |\n",
    "| 6/8  | Before 11:59 PM  | The project. | Turn in Final Project  |"
   ]
  },
  {
   "cell_type": "markdown",
   "metadata": {},
   "source": [
    "# Footnotes\n",
    "\n",
    "<a name=\"CIESnote\"></a>1.[^](#CIES): *CIES Football Observatory*. https://football-observatory.com/?lang=en<br>\n",
    "<a name=\"TowardsDataSciencenote\"></a>2.[^](#TowrdsDataScience) *Towards Data Science*. https://towardsdatascience.com/using-machine-learning-to-identify-high-value-football-transfer-targets-d4151a7ffcac <br>\n",
    "<a name=\"TransferFeenote\"></a>3.[^](#TransferFee) *Transfer Fee*. https://www.football-stadiums.co.uk/articles/football-player-transfers-explained/ <br>\n"
   ]
  }
 ],
 "metadata": {
  "kernelspec": {
   "display_name": "Python 3",
   "language": "python",
   "name": "python3"
  },
  "language_info": {
   "codemirror_mode": {
    "name": "ipython",
    "version": 3
   },
   "file_extension": ".py",
   "mimetype": "text/x-python",
   "name": "python",
   "nbconvert_exporter": "python",
   "pygments_lexer": "ipython3",
   "version": "3.7.1"
  }
 },
 "nbformat": 4,
 "nbformat_minor": 2
}
